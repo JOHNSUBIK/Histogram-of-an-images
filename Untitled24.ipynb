{
 "cells": [
  {
   "cell_type": "code",
   "execution_count": null,
   "id": "d3256ab7-6fdb-464a-a8f9-320c7b9819ee",
   "metadata": {},
   "outputs": [],
   "source": [
    "import cv2\n",
    "import numpy as np\n",
    "import matplotlib.pyplot as plt\n",
    "\n",
    "# Load grayscale image (make sure to give correct path)\n",
    "gray_image = cv2.imread(r\"Qno. 1.jpg\", cv2.IMREAD_GRAYSCALE)\n",
    "\n",
    "# Check if image loaded properly\n",
    "if gray_image is None:\n",
    "    raise ValueError(\"Image not found or path is incorrect!\")\n",
    "\n",
    "# Calculate histograms\n",
    "hist_original = cv2.calcHist([gray_image], [0], None, [256], [0, 256])\n",
    "equalized_image = cv2.equalizeHist(gray_image)\n",
    "hist_equalized = cv2.calcHist([equalized_image], [0], None, [256], [0, 256])\n",
    "\n",
    "# Plot\n",
    "plt.figure(figsize=(10, 7))\n",
    "\n",
    "plt.subplot(2, 2, 1)\n",
    "plt.imshow(gray_image, cmap='gray')\n",
    "plt.title('Original Grayscale Image')\n",
    "plt.axis('off')\n",
    "\n",
    "plt.subplot(2, 2, 2)\n",
    "plt.imshow(equalized_image, cmap='gray')\n",
    "plt.title('Equalized Image')\n",
    "plt.axis('off')\n",
    "\n",
    "plt.subplot(2, 2, 3)\n",
    "plt.plot(hist_original, color='black')\n",
    "plt.title('Original Histogram')\n",
    "plt.xlim([0, 256])\n",
    "\n",
    "plt.subplot(2, 2, 4)\n",
    "plt.plot(hist_equalized, color='black')\n",
    "plt.title('Equalized Histogram')\n",
    "plt.xlim([0, 256])\n",
    "\n",
    "plt.tight_layout()\n",
    "plt.show()"
   ]
  },
  {
   "cell_type": "code",
   "execution_count": null,
   "id": "29790005-df81-432a-b09e-2288a05872f4",
   "metadata": {},
   "outputs": [],
   "source": []
  }
 ],
 "metadata": {
  "kernelspec": {
   "display_name": "Python 3 (ipykernel)",
   "language": "python",
   "name": "python3"
  },
  "language_info": {
   "codemirror_mode": {
    "name": "ipython",
    "version": 3
   },
   "file_extension": ".py",
   "mimetype": "text/x-python",
   "name": "python",
   "nbconvert_exporter": "python",
   "pygments_lexer": "ipython3",
   "version": "3.13.5"
  }
 },
 "nbformat": 4,
 "nbformat_minor": 5
}
